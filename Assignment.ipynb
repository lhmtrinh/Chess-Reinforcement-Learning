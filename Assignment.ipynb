{
 "cells": [
  {
   "cell_type": "markdown",
   "id": "02944396",
   "metadata": {},
   "source": [
    "# Assignment"
   ]
  },
  {
   "cell_type": "code",
   "execution_count": 1,
   "id": "c9652bc6",
   "metadata": {},
   "outputs": [],
   "source": [
    "# Import \n",
    "\n",
    "import numpy as np\n",
    "import matplotlib.pyplot as plt\n",
    "import pandas as pd\n",
    "from degree_freedom_queen import *\n",
    "from degree_freedom_king1 import *\n",
    "from degree_freedom_king2 import *\n",
    "from generate_game import *\n",
    "from Chess_env import *\n",
    "\n",
    "\n",
    "size_board = 4"
   ]
  },
  {
   "cell_type": "markdown",
   "id": "0bceca7c",
   "metadata": {},
   "source": [
    "## The Environment\n",
    "\n",
    "You can find the environment in the file Chess_env, which contains the class Chess_env. To define an object, you need to provide the board size considered as input. In our example, size_board=4. \n",
    "Chess_env is composed by the following methods:\n",
    "\n",
    "1. Initialise_game. The method initialises an episode by placing the three pieces considered (Agent's king and queen, enemy's king) in the chess board. The outputs of the method are described below in order.\n",
    "\n",
    "     S $\\;$ A matrix representing the board locations filled with 4 numbers: 0, no piece in that position; 1, location of the \n",
    "     agent's king; 2 location of the queen; 3 location of the enemy king.\n",
    "     \n",
    "     X $\\;$ The features, that is the input to the neural network. See the assignment for more information regarding the            definition of the features adopted. To personalise this, go into the Features method of the class Chess_env() and change        accordingly.\n",
    "     \n",
    "     allowed_a $\\;$ The allowed actions that the agent can make. The agent is moving a king, with a total number of 8                possible actions, and a queen, with a total number of $(board_{size}-1)\\times 8$ actions. The total number of possible actions correspond      to the sum of the two, but not all actions are allowed in a given position (movements to locations outside the borders or      against chess rules). Thus, the variable allowed_a is a vector that is one (zero) for an action that the agent can (can't)      make. Be careful, apply the policy considered on the actions that are allowed only.\n",
    "     \n",
    "\n",
    "2. OneStep. The method performs a one step update of the system. Given as input the action selected by the agent, it updates the chess board by performing that action and the response of the enemy king (which is a random allowed action in the settings considered). The first three outputs are the same as for the Initialise_game method, but the variables are computed for the position reached after the update of the system. The fourth and fifth outputs are:\n",
    "\n",
    "     R $\\;$ The reward. To change this, look at the OneStep method of the class where the rewards are set.\n",
    "     \n",
    "     Done $\\;$ A variable that is 1 if the episode has ended (checkmate or draw).\n",
    "     \n",
    "     \n",
    "3. Features. Given the chessboard position, the method computes the features.\n",
    "\n",
    "This information and a quick analysis of the class should be all you need to get going. The other functions that the class exploits are uncommented and constitute an example on how not to write a python code. You can take a look at them if you want, but it is not necessary.\n",
    "\n",
    "\n",
    "\n",
    "\n"
   ]
  },
  {
   "cell_type": "code",
   "execution_count": 2,
   "id": "9593a299",
   "metadata": {},
   "outputs": [],
   "source": [
    "## INITIALISE THE ENVIRONMENT\n",
    "env=Chess_Env(size_board)"
   ]
  },
  {
   "cell_type": "code",
   "execution_count": 3,
   "id": "bbc05bfd",
   "metadata": {},
   "outputs": [
    {
     "name": "stdout",
     "output_type": "stream",
     "text": [
      "[[0 0 3 0]\n",
      " [0 0 0 0]\n",
      " [0 2 0 0]\n",
      " [0 0 1 0]]\n",
      "check?  0\n",
      "dofk2  1\n",
      "\n",
      "[[0 0 0 3]\n",
      " [0 0 0 0]\n",
      " [2 0 0 0]\n",
      " [0 0 1 0]]\n",
      "0  0\n",
      "check?  0\n",
      "dofk2  2\n",
      "\n",
      "[[0 0 0 3]\n",
      " [0 0 0 0]\n",
      " [2 0 0 1]\n",
      " [0 0 0 0]]\n",
      "0.0  1\n",
      "check?  0\n",
      "dofk2  0\n"
     ]
    }
   ],
   "source": [
    "## PRINT 5 STEPS OF AN EPISODE CONSIDERING A RANDOM AGENT\n",
    "\n",
    "S,X,allowed_a=env.Initialise_game()                       # INTIALISE GAME\n",
    "\n",
    "print(S)                                                  # PRINT CHESS BOARD (SEE THE DESCRIPTION ABOVE)\n",
    "\n",
    "print('check? ',env.check)                                # PRINT VARIABLE THAT TELLS IF ENEMY KING IS IN CHECK (1) OR NOT (0)\n",
    "print('dofk2 ',np.sum(env.dfk2_constrain).astype(int))    # PRINT THE NUMBER OF LOCATIONS THAT THE ENEMY KING CAN MOVE TO\n",
    "\n",
    "\n",
    "for i in range(5):\n",
    "    \n",
    "    a,_=np.where(allowed_a==1)                  # FIND WHAT THE ALLOWED ACTIONS ARE\n",
    "    a_agent=np.random.permutation(a)[0]         # MAKE A RANDOM ACTION\n",
    "\n",
    "    S,X,allowed_a,R,Done=env.OneStep(a_agent)   # UPDATE THE ENVIRONMENT\n",
    "    \n",
    "    \n",
    "    ## PRINT CHESS BOARD AND VARIABLES\n",
    "    print('')\n",
    "    print(S)\n",
    "    print(R,'', Done)\n",
    "    print('check? ',env.check)\n",
    "    print('dofk2 ',np.sum(env.dfk2_constrain).astype(int))\n",
    "    \n",
    "    \n",
    "    # TERMINATE THE EPISODE IF Done=True (DRAW OR CHECKMATE)\n",
    "    if Done:\n",
    "        break\n",
    "        \n"
   ]
  },
  {
   "cell_type": "code",
   "execution_count": 3,
   "id": "fc16cf7b",
   "metadata": {},
   "outputs": [
    {
     "name": "stdout",
     "output_type": "stream",
     "text": [
      "Random_Agent, Average reward: 0.193 Number of steps:  7.236\n"
     ]
    }
   ],
   "source": [
    "# PERFORM N_episodes=1000 EPISODES MAKING RANDOM ACTIONS AND COMPUTE THE AVERAGE REWARD AND NUMBER OF MOVES \n",
    "\n",
    "S,X,allowed_a=env.Initialise_game()\n",
    "N_episodes=1000\n",
    "\n",
    "# VARIABLES WHERE TO SAVE THE FINAL REWARD IN AN EPISODE AND THE NUMBER OF MOVES \n",
    "R_save_random = np.zeros([N_episodes, 1])\n",
    "N_moves_save_random = np.zeros([N_episodes, 1])\n",
    "\n",
    "for n in range(N_episodes):\n",
    "    \n",
    "    S,X,allowed_a=env.Initialise_game()     # INITIALISE GAME\n",
    "    Done=0                                  # SET Done=0 AT THE BEGINNING\n",
    "    i=1                                     # COUNTER FOR THE NUMBER OF ACTIONS (MOVES) IN AN EPISODE\n",
    "    \n",
    "    # UNTIL THE EPISODE IS NOT OVER...(Done=0)\n",
    "    while Done==0:\n",
    "        \n",
    "        # SAME AS THE CELL BEFORE, BUT SAVING THE RESULTS WHEN THE EPISODE TERMINATES \n",
    "        \n",
    "        a,_=np.where(allowed_a==1)\n",
    "        a_agent=np.random.permutation(a)[0]\n",
    "        S,X,allowed_a,R,Done=env.OneStep(a_agent)\n",
    "        \n",
    "        \n",
    "        if Done:\n",
    "            \n",
    "            R_save_random[n]=np.copy(R)\n",
    "            N_moves_save_random[n]=np.copy(i)\n",
    "\n",
    "            break\n",
    "\n",
    "        i=i+1                               # UPDATE THE COUNTER\n",
    "\n",
    "\n",
    "\n",
    "# AS YOU SEE, THE PERFORMANCE OF A RANDOM AGENT ARE NOT GREAT, SINCE THE MAJORITY OF THE POSITIONS END WITH A DRAW \n",
    "# (THE ENEMY KING IS NOT IN CHECK AND CAN'T MOVE)\n",
    "\n",
    "print('Random_Agent, Average reward:',np.mean(R_save_random),'Number of steps: ',np.mean(N_moves_save_random))\n",
    "\n"
   ]
  },
  {
   "cell_type": "code",
   "execution_count": 3,
   "id": "0c1748d9",
   "metadata": {},
   "outputs": [],
   "source": [
    "# Define Qvalues function\n",
    "def Qvalues(x, W1, W2, b1,b2):\n",
    "    # Result of the hidden layer\n",
    "    h = np.dot(x,W1) + b1\n",
    "    # Result of the neural network\n",
    "    y= np.dot(h,W2)+b2\n",
    "    # Return the results through RELU activation function \n",
    "    return np.maximum(y,0), np.maximum(h,0)\n",
    "\n",
    "# Define Epsilon Greedy Policy taking the Q as Qvalues, epsilon and possible actions\n",
    "def EpsilonGreedy_Policy(Q, epsilon, allowed_a, seed):\n",
    "    np.random.seed(seed)\n",
    "    # Get index of valid actions\n",
    "    validActions= np.where(allowed_a==1)[0]\n",
    "    # Random value for taking a random action\n",
    "    rand_value= np.random.uniform(0,1)\n",
    "    rand_a = rand_value<epsilon\n",
    "    if rand_a==True:\n",
    "        # Random action where the action is legal\n",
    "        a= np.random.choice(validActions)\n",
    "    else:\n",
    "        # Legal action with the highest Q values\n",
    "        # Get all valid Q_values \n",
    "        valid_Q = Q[validActions]\n",
    "        # Get maximum\n",
    "        max_Q_value = np.max(valid_Q)\n",
    "        # Return the valid actions with highest Q values\n",
    "        a = np.where(Q==max_Q_value)[0][0]\n",
    "    return a"
   ]
  },
  {
   "cell_type": "code",
   "execution_count": 11,
   "id": "493be2e4",
   "metadata": {},
   "outputs": [],
   "source": [
    "# INITIALISE THE PARAMETERS OF YOUR NEURAL NETWORK\n",
    "S,X,allowed_a=env.Initialise_game()\n",
    "N_a=np.shape(allowed_a)[0]   # TOTAL NUMBER OF POSSIBLE ACTIONS\n",
    "N_in=np.shape(X)[0]    ## INPUT SIZE\n",
    "N_h=200                ## NUMBER OF HIDDEN NODES\n",
    "\n",
    "# Initialize Neural Network\n",
    "np.random.seed(0)\n",
    "W1 = np.random.uniform(-1,1,[N_in, N_h])/(N_in+N_h)\n",
    "b1 = np.zeros([N_h])\n",
    "W2 = np.random.uniform(-1,1,[N_h,N_a])/(N_in+N_h)\n",
    "b2 = np.zeros([N_a])\n",
    "\n",
    "# HYPERPARAMETERS SUGGESTED (FOR A GRID SIZE OF 4)\n",
    "epsilon_0 = 0.2     # STARTING VALUE OF EPSILON FOR THE EPSILON-GREEDY POLICY\n",
    "beta = 0.00005      # THE PARAMETER SETS HOW QUICKLY THE VALUE OF EPSILON IS DECAYING (SEE epsilon_f BELOW)\n",
    "beta_1 = 0.00003    # BETA FOR LESS DECAYING RATE\n",
    "gamma = 0.85        # THE DISCOUNT FACTOR\n",
    "gamma_1 = 0.9       # LOWER DISCOUNT FACTOR\n",
    "eta = 0.0035        # THE LEARNING RATE\n",
    "beta_A = 0.9        # First order momentum for Adam\n",
    "\n",
    "N_episodes = 100000 # THE NUMBER OF GAMES TO BE PLAYED \n",
    "\n",
    "# SAVING VARIABLES\n",
    "R_save = np.zeros([N_episodes, 1])\n",
    "N_moves_save = np.zeros([N_episodes, 1])\n"
   ]
  },
  {
   "cell_type": "markdown",
   "id": "3bd7e7b0",
   "metadata": {},
   "source": [
    "TASK 3: TRAIN AGENT USING SARSA"
   ]
  },
  {
   "cell_type": "code",
   "execution_count": null,
   "id": "e11bd185",
   "metadata": {},
   "outputs": [],
   "source": [
    "# Prepare parameter for Sarsa\n",
    "W1_S = np.copy(W1)\n",
    "W2_S = np.copy(W2)\n",
    "b1_S = np.copy(b1)\n",
    "b2_S = np.copy(b2)\n",
    "R_save_S  = np.copy(R_save)\n",
    "N_moves_save_S = np.copy(N_moves_save)\n",
    "\n",
    "# Reset the seed = 1 to get the exact same result\n",
    "seed = 1\n",
    "# TRAINING LOOP FOR SARSA\n",
    "for n in range(N_episodes):\n",
    "    # Calculate decaying Epsilon\n",
    "    epsilon_f = epsilon_0 / (1 + beta * n)  \n",
    "    Done=0  \n",
    "    # Counter for the number of actions made                                 \n",
    "    i = 1        \n",
    "    # Initalize the game                            \n",
    "    S,X,allowed_a=env.Initialise_game()     \n",
    "    # Calculate Q values and activation result of hidden layer\n",
    "    Q,x1 = Qvalues(X, W1_S, W2_S, b1_S, b2_S)        \n",
    "    # Chose the action based on Q value, epsilon and the allowed actions\n",
    "    seed +=1\n",
    "    a_agent = EpsilonGreedy_Policy(Q,epsilon_f,allowed_a,seed)\n",
    "    while Done==0:                           ## START THE EPISODE\n",
    "        # Tale the action\n",
    "        S_next,X_next,allowed_a_next,R,Done=env.OneStep(a_agent)\n",
    "        # If finished, parameters without the decaying factor for future Q value (because there is no next step)\n",
    "        if Done==1:\n",
    "            delta=R-Q[a_agent]\n",
    "\n",
    "            delta_b2 = delta\n",
    "            delta_W2=delta*x1\n",
    "            delta_b1 = delta*W2_S[:,a_agent]*(x1>0)\n",
    "            delta_W1=np.outer(X,delta_b1)\n",
    "\n",
    "            # Updating Weights and Biases through back propagation\n",
    "            W2_S[:,a_agent]=W2_S[:,a_agent]+eta*delta_W2\n",
    "            b2_S[a_agent]=b2_S[a_agent]+eta*delta_b2\n",
    "            W1_S=W1_S+eta*delta_W1\n",
    "            b1_S=b1_S+eta*delta_b1\n",
    "            \n",
    "            R_save_S[n]=np.copy(R)\n",
    "            N_moves_save_S[n]=np.copy(i)\n",
    "            break\n",
    "\n",
    "        # Calculate next Q values\n",
    "        Q_next,_ = Qvalues(X_next,W1_S,W2_S,b1_S,b2_S) \n",
    "        seed +=1\n",
    "        # Chose next action based on policy\n",
    "        a_agent_next = EpsilonGreedy_Policy(Q_next, epsilon_f, allowed_a_next, seed)\n",
    "        # Take into consideration the discounter future Q value of the next action taken\n",
    "        delta=R+gamma*Q_next[a_agent_next]-Q[a_agent]\n",
    "        \n",
    "        delta_b2 = delta\n",
    "        delta_W2 = delta*x1\n",
    "        delta_b1 = delta*W2_S[:,a_agent]*(x1>0)\n",
    "        delta_W1=np.outer(X,delta_b1)\n",
    "\n",
    "        W2_S[:,a_agent]=W2_S[:,a_agent]+eta*delta_W2\n",
    "        b2_S[a_agent]=b2_S[a_agent]+eta*delta_b2\n",
    "\n",
    "        W1_S=W1_S+eta*delta_W1\n",
    "        b1_S=b1_S+eta*delta_b1\n",
    "            \n",
    "        # update state, action, etc.   \n",
    "        S=np.copy(S_next)\n",
    "        X=np.copy(X_next)\n",
    "        allowed_a=np.copy(allowed_a_next)\n",
    "        a_agent = np.copy(a_agent_next)\n",
    "        \n",
    "        # Update counter for the next actions made\n",
    "        i += 1 "
   ]
  },
  {
   "cell_type": "code",
   "execution_count": 6,
   "id": "f9f89ca9",
   "metadata": {},
   "outputs": [
    {
     "name": "stdout",
     "output_type": "stream",
     "text": [
      "Stored 'W1_S' (ndarray)\n",
      "Stored 'b1_S' (ndarray)\n",
      "Stored 'W2_S' (ndarray)\n",
      "Stored 'b2_S' (ndarray)\n",
      "Stored 'R_save_S' (ndarray)\n",
      "Stored 'N_moves_save_S' (ndarray)\n"
     ]
    }
   ],
   "source": [
    "# Store variables for Sarsa\n",
    "%store W1_S\n",
    "%store b1_S\n",
    "%store W2_S\n",
    "%store b2_S\n",
    "%store R_save_S\n",
    "%store N_moves_save_S"
   ]
  },
  {
   "cell_type": "markdown",
   "id": "21fb828e",
   "metadata": {},
   "source": [
    "TASK 4: CHANGE DISCOUNT FACTOR AND BETA"
   ]
  },
  {
   "cell_type": "code",
   "execution_count": 7,
   "id": "e11bd185",
   "metadata": {},
   "outputs": [],
   "source": [
    "# Prepare parameter for Sarsa with different BETA\n",
    "W1_SB = np.copy(W1)\n",
    "W2_SB = np.copy(W2)\n",
    "b1_SB = np.copy(b1)\n",
    "b2_SB = np.copy(b2)\n",
    "R_save_SB  = np.copy(R_save)\n",
    "N_moves_save_SB = np.copy(N_moves_save)\n",
    "\n",
    "# Reset the seed = 1 to get the exact same result\n",
    "seed = 1\n",
    "# TRAINING LOOP FOR SARSA\n",
    "for n in range(N_episodes):\n",
    "    # Calculate decaying Epsilon\n",
    "    epsilon_f = epsilon_0 / (1 + beta_1 * n)  \n",
    "    Done=0  \n",
    "    # Counter for the number of actions made                                 \n",
    "    i = 1        \n",
    "    # Initalize the game                            \n",
    "    S,X,allowed_a=env.Initialise_game()     \n",
    "    # Calculate Q values and activation result of hidden layer\n",
    "    Q,x1 = Qvalues(X, W1_SB, W2_SB, b1_SB, b2_SB)        \n",
    "    # Chose the action based on Q value, epsilon and the allowed actions\n",
    "    seed +=1\n",
    "    a_agent = EpsilonGreedy_Policy(Q,epsilon_f,allowed_a,seed)\n",
    "    while Done==0:                           ## START THE EPISODE\n",
    "        # Tale the action\n",
    "        S_next,X_next,allowed_a_next,R,Done=env.OneStep(a_agent)\n",
    "        # If finished, parameters without the decaying factor for future Q value (because there is no next step)\n",
    "        if Done==1:\n",
    "            delta=R-Q[a_agent]\n",
    "\n",
    "            delta_b2 = delta\n",
    "            delta_W2=delta*x1\n",
    "            delta_b1 = delta*W2_SB[:,a_agent]*(x1>0)\n",
    "            delta_W1=np.outer(X,delta_b1)\n",
    "\n",
    "            W2_SB[:,a_agent]=W2_SB[:,a_agent]+eta*delta_W2\n",
    "            b2_SB[a_agent]=b2_SB[a_agent]+eta*delta_b2\n",
    "            W1_SB=W1_SB+eta*delta_W1\n",
    "            b1_SB=b1_SB+eta*delta_b1\n",
    "            \n",
    "            R_save_SB[n]=np.copy(R)\n",
    "            N_moves_save_SB[n]=np.copy(i)\n",
    "            break\n",
    "\n",
    "        # Calculate next Q values\n",
    "        Q_next,_ = Qvalues(X_next,W1_SB,W2_SB,b1_SB,b2_SB) \n",
    "        seed +=1\n",
    "        # Chose next action based on policy\n",
    "        a_agent_next = EpsilonGreedy_Policy(Q_next, epsilon_f, allowed_a_next, seed)\n",
    "        # Take into consideration the discounter future Q value of the next action taken\n",
    "        delta=R+gamma*Q_next[a_agent_next]-Q[a_agent]\n",
    "        \n",
    "        delta_b2 = delta\n",
    "        delta_W2 = delta*x1\n",
    "        delta_b1 = delta*W2_SB[:,a_agent]*(x1>0)\n",
    "        delta_W1=np.outer(X,delta_b1)\n",
    "\n",
    "        W2_SB[:,a_agent]=W2_SB[:,a_agent]+eta*delta_W2\n",
    "        b2_SB[a_agent]=b2_SB[a_agent]+eta*delta_b2\n",
    "\n",
    "        W1_SB=W1_SB+eta*delta_W1\n",
    "        b1_SB=b1_SB+eta*delta_b1\n",
    "            \n",
    "        # update state, action, etc.   \n",
    "        S=np.copy(S_next)\n",
    "        X=np.copy(X_next)\n",
    "        allowed_a=np.copy(allowed_a_next)\n",
    "        a_agent = np.copy(a_agent_next)\n",
    "        \n",
    "        # Update counter for the next actions made\n",
    "        i += 1 "
   ]
  },
  {
   "cell_type": "code",
   "execution_count": 8,
   "id": "26a6562a",
   "metadata": {},
   "outputs": [
    {
     "name": "stdout",
     "output_type": "stream",
     "text": [
      "Stored 'W1_SB' (ndarray)\n",
      "Stored 'b1_SB' (ndarray)\n",
      "Stored 'W2_SB' (ndarray)\n",
      "Stored 'b2_SB' (ndarray)\n",
      "Stored 'R_save_SB' (ndarray)\n",
      "Stored 'N_moves_save_SB' (ndarray)\n"
     ]
    }
   ],
   "source": [
    "# Store variables for Sarsa with Different Beta\n",
    "%store W1_SB\n",
    "%store b1_SB\n",
    "%store W2_SB\n",
    "%store b2_SB\n",
    "%store R_save_SB\n",
    "%store N_moves_save_SB"
   ]
  },
  {
   "cell_type": "code",
   "execution_count": 5,
   "id": "75adeec8",
   "metadata": {},
   "outputs": [
    {
     "name": "stderr",
     "output_type": "stream",
     "text": [
      "C:\\Users\\trinh\\AppData\\Local\\Temp/ipykernel_20052/995650218.py:58: RuntimeWarning: overflow encountered in multiply\n",
      "  delta_b1 = delta*W2_SG[:,a_agent]*(x1>0)\n",
      "C:\\Users\\trinh\\anaconda3\\envs\\FDS\\lib\\site-packages\\numpy\\core\\numeric.py:936: RuntimeWarning: invalid value encountered in multiply\n",
      "  return multiply(a.ravel()[:, newaxis], b.ravel()[newaxis, :], out)\n"
     ]
    },
    {
     "ename": "IndexError",
     "evalue": "index 0 is out of bounds for axis 0 with size 0",
     "output_type": "error",
     "traceback": [
      "\u001b[1;31m---------------------------------------------------------------------------\u001b[0m",
      "\u001b[1;31mIndexError\u001b[0m                                Traceback (most recent call last)",
      "\u001b[1;32m~\\AppData\\Local\\Temp/ipykernel_20052/995650218.py\u001b[0m in \u001b[0;36m<module>\u001b[1;34m\u001b[0m\n\u001b[0;32m     50\u001b[0m         \u001b[0mseed\u001b[0m \u001b[1;33m+=\u001b[0m\u001b[1;36m1\u001b[0m\u001b[1;33m\u001b[0m\u001b[1;33m\u001b[0m\u001b[0m\n\u001b[0;32m     51\u001b[0m         \u001b[1;31m# Chose next action based on policy\u001b[0m\u001b[1;33m\u001b[0m\u001b[1;33m\u001b[0m\u001b[0m\n\u001b[1;32m---> 52\u001b[1;33m         \u001b[0ma_agent_next\u001b[0m \u001b[1;33m=\u001b[0m \u001b[0mEpsilonGreedy_Policy\u001b[0m\u001b[1;33m(\u001b[0m\u001b[0mQ_next\u001b[0m\u001b[1;33m,\u001b[0m \u001b[0mepsilon_f\u001b[0m\u001b[1;33m,\u001b[0m \u001b[0mallowed_a_next\u001b[0m\u001b[1;33m,\u001b[0m \u001b[0mseed\u001b[0m\u001b[1;33m)\u001b[0m\u001b[1;33m\u001b[0m\u001b[1;33m\u001b[0m\u001b[0m\n\u001b[0m\u001b[0;32m     53\u001b[0m         \u001b[1;31m# Take into consideration the discounter future Q value of the next action taken\u001b[0m\u001b[1;33m\u001b[0m\u001b[1;33m\u001b[0m\u001b[0m\n\u001b[0;32m     54\u001b[0m         \u001b[0mdelta\u001b[0m\u001b[1;33m=\u001b[0m\u001b[0mR\u001b[0m\u001b[1;33m+\u001b[0m\u001b[0mgamma_1\u001b[0m\u001b[1;33m*\u001b[0m\u001b[0mQ_next\u001b[0m\u001b[1;33m[\u001b[0m\u001b[0ma_agent_next\u001b[0m\u001b[1;33m]\u001b[0m\u001b[1;33m-\u001b[0m\u001b[0mQ\u001b[0m\u001b[1;33m[\u001b[0m\u001b[0ma_agent\u001b[0m\u001b[1;33m]\u001b[0m\u001b[1;33m\u001b[0m\u001b[1;33m\u001b[0m\u001b[0m\n",
      "\u001b[1;32m~\\AppData\\Local\\Temp/ipykernel_20052/3268526413.py\u001b[0m in \u001b[0;36mEpsilonGreedy_Policy\u001b[1;34m(Q, epsilon, allowed_a, seed)\u001b[0m\n\u001b[0;32m     26\u001b[0m         \u001b[0mmax_Q_value\u001b[0m \u001b[1;33m=\u001b[0m \u001b[0mnp\u001b[0m\u001b[1;33m.\u001b[0m\u001b[0mmax\u001b[0m\u001b[1;33m(\u001b[0m\u001b[0mvalid_Q\u001b[0m\u001b[1;33m)\u001b[0m\u001b[1;33m\u001b[0m\u001b[1;33m\u001b[0m\u001b[0m\n\u001b[0;32m     27\u001b[0m         \u001b[1;31m# Return the valid actions with highest Q values\u001b[0m\u001b[1;33m\u001b[0m\u001b[1;33m\u001b[0m\u001b[0m\n\u001b[1;32m---> 28\u001b[1;33m         \u001b[0ma\u001b[0m \u001b[1;33m=\u001b[0m \u001b[0mnp\u001b[0m\u001b[1;33m.\u001b[0m\u001b[0mwhere\u001b[0m\u001b[1;33m(\u001b[0m\u001b[0mQ\u001b[0m\u001b[1;33m==\u001b[0m\u001b[0mmax_Q_value\u001b[0m\u001b[1;33m)\u001b[0m\u001b[1;33m[\u001b[0m\u001b[1;36m0\u001b[0m\u001b[1;33m]\u001b[0m\u001b[1;33m[\u001b[0m\u001b[1;36m0\u001b[0m\u001b[1;33m]\u001b[0m\u001b[1;33m\u001b[0m\u001b[1;33m\u001b[0m\u001b[0m\n\u001b[0m\u001b[0;32m     29\u001b[0m     \u001b[1;32mreturn\u001b[0m \u001b[0ma\u001b[0m\u001b[1;33m\u001b[0m\u001b[1;33m\u001b[0m\u001b[0m\n",
      "\u001b[1;31mIndexError\u001b[0m: index 0 is out of bounds for axis 0 with size 0"
     ]
    }
   ],
   "source": [
    "# Prepare parameter for Sarsa with different GAMMA\n",
    "W1_SG = np.copy(W1)\n",
    "W2_SG = np.copy(W2)\n",
    "b1_SG = np.copy(b1)\n",
    "b2_SG = np.copy(b2)\n",
    "R_save_SG  = np.copy(R_save)\n",
    "N_moves_save_SG = np.copy(N_moves_save)\n",
    "\n",
    "# Reset the seed = 1 to get the exact same result\n",
    "seed = 1\n",
    "# TRAINING LOOP FOR SARSA\n",
    "for n in range(N_episodes):\n",
    "    # Calculate decaying Epsilon\n",
    "    epsilon_f = epsilon_0 / (1 + beta * n)  \n",
    "    Done=0  \n",
    "    # Counter for the number of actions made                                 \n",
    "    i = 1        \n",
    "    # Initalize the game                            \n",
    "    S,X,allowed_a=env.Initialise_game()     \n",
    "    # Calculate Q values and activation result of hidden layer\n",
    "    Q,x1 = Qvalues(X, W1_SG, W2_SG, b1_SG, b2_SG)        \n",
    "    # Chose the action based on Q value, epsilon and the allowed actions\n",
    "    seed +=1\n",
    "    a_agent = EpsilonGreedy_Policy(Q,epsilon_f,allowed_a,seed)\n",
    "    while Done==0:                           ## START THE EPISODE\n",
    "        # Tale the action\n",
    "        S_next,X_next,allowed_a_next,R,Done=env.OneStep(a_agent)\n",
    "        # If finished, parameters without the decaying factor for future Q value (because there is no next step)\n",
    "        if Done==1:\n",
    "            delta=R-Q[a_agent]\n",
    "\n",
    "            delta_b2 = delta\n",
    "            delta_W2=delta*x1\n",
    "            delta_b1 = delta*W2_SG[:,a_agent]*(x1>0)\n",
    "            delta_W1=np.outer(X,delta_b1)\n",
    "\n",
    "            W2_SG[:,a_agent]=W2_SG[:,a_agent]+eta*delta_W2\n",
    "            b2_SG[a_agent]=b2_SG[a_agent]+eta*delta_b2\n",
    "            W1_SG=W1_SG+eta*delta_W1\n",
    "            b1_SG=b1_SG+eta*delta_b1\n",
    "            \n",
    "            R_save_SG[n]=np.copy(R)\n",
    "            N_moves_save_SG[n]=np.copy(i)\n",
    "            break\n",
    "        else:\n",
    "            PIPPO=1\n",
    "\n",
    "        # Calculate next Q values\n",
    "        Q_next,_ = Qvalues(X_next,W1_SG,W2_SG,b1_SG,b2_SG) \n",
    "        seed +=1\n",
    "        # Chose next action based on policy\n",
    "        a_agent_next = EpsilonGreedy_Policy(Q_next, epsilon_f, allowed_a_next, seed)\n",
    "        # Take into consideration the discounter future Q value of the next action taken\n",
    "        delta=R+gamma_1*Q_next[a_agent_next]-Q[a_agent]\n",
    "        \n",
    "        delta_b2 = delta\n",
    "        delta_W2=delta*x1\n",
    "        delta_b1 = delta*W2_SG[:,a_agent]*(x1>0)\n",
    "        delta_W1=np.outer(X,delta_b1)\n",
    "\n",
    "        W2_SG[:,a_agent]=W2_SG[:,a_agent]+eta*delta_W2\n",
    "        b2_SG[a_agent]=b2_SG[a_agent]+eta*delta_b2\n",
    "        W1_SG=W1_SG+eta*delta_W1\n",
    "        b1_SG=b1_SG+eta*delta_b1\n",
    "            \n",
    "        # update state, action, etc.   \n",
    "        S=np.copy(S_next)\n",
    "        X=np.copy(X_next)\n",
    "        allowed_a=np.copy(allowed_a_next)\n",
    "        a_agent = np.copy(a_agent_next)\n",
    "        \n",
    "        # Update counter for the next actions made\n",
    "        i += 1 \n",
    "\n",
    "\n",
    "### Memory overflow at n = 74870"
   ]
  },
  {
   "cell_type": "code",
   "execution_count": 6,
   "id": "0751a372",
   "metadata": {},
   "outputs": [
    {
     "name": "stdout",
     "output_type": "stream",
     "text": [
      "Stored 'W1_SG' (ndarray)\n",
      "Stored 'b1_SG' (ndarray)\n",
      "Stored 'W2_SG' (ndarray)\n",
      "Stored 'b2_SG' (ndarray)\n",
      "Stored 'R_save_SG' (ndarray)\n",
      "Stored 'N_moves_save_SG' (ndarray)\n"
     ]
    }
   ],
   "source": [
    "# Store variables for Sarsa with Different Beta\n",
    "%store W1_SG\n",
    "%store b1_SG\n",
    "%store W2_SG\n",
    "%store b2_SG\n",
    "%store R_save_SG\n",
    "%store N_moves_save_SG"
   ]
  },
  {
   "cell_type": "code",
   "execution_count": 10,
   "id": "108cc5ba",
   "metadata": {},
   "outputs": [
    {
     "data": {
      "text/plain": [
       "<matplotlib.legend.Legend at 0x2e37b5f96d0>"
      ]
     },
     "execution_count": 10,
     "metadata": {},
     "output_type": "execute_result"
    },
    {
     "data": {
      "image/png": "[encoded data removed]",
      "text/plain": [
       "<Figure size 576x432 with 1 Axes>"
      ]
     },
     "metadata": {
      "needs_background": "light"
     },
     "output_type": "display_data"
    },
    {
     "data": {
      "image/png": "[encoded data removed]",
      "text/plain": [
       "<Figure size 576x432 with 1 Axes>"
      ]
     },
     "metadata": {
      "needs_background": "light"
     },
     "output_type": "display_data"
    }
   ],
   "source": [
    "%store -r R_save_S\n",
    "%store -r R_save_SB\n",
    "%store -r R_save_SG\n",
    "%store -r N_moves_save_S\n",
    "%store -r N_moves_save_SB\n",
    "%store -r N_moves_save_SG\n",
    "\n",
    "# Convert Saved Reward for SARSA (R_save_S) into Exponential moving average series \n",
    "df_R_S = pd.DataFrame(R_save_S).ewm(span=5000).mean()\n",
    "# Convert Saved Reward with different beta into Exponential moving average series \n",
    "df_R_SB = pd.DataFrame(R_save_SB).ewm(span=5000).mean()\n",
    "# Convert Saved Reward with different gamma into Exponential moving average series \n",
    "df_R_SG = pd.DataFrame(R_save_SG[:74870,0]).ewm(span=5000).mean()\n",
    "fig, axs = plt.subplots(1,figsize=(8,6))\n",
    "plt.plot(np.arange(0,N_episodes),df_R_S,label=\"beta = 0.00005 , gamma = 0.85\")\n",
    "plt.plot(np.arange(0,N_episodes),df_R_SB,label=\"beta = 0.00003, gamma = 0.85\")\n",
    "plt.plot(np.arange(0,74870),df_R_SG,label=\"beta = 0.00005, gamma = 0.9\")\n",
    "plt.title(\"SARSA Reward with differnt beta and gamma\")\n",
    "plt.xlabel(\"#Epsisodes\")\n",
    "plt.ylabel(\"Average Reward\")\n",
    "plt.legend()\n",
    "\n",
    "\n",
    "# Convert Saved Number of moves for SARSA (N_moves_save_S) into Exponential moving average series \n",
    "df_N_Moves_S = pd.DataFrame(N_moves_save_S).ewm(span=5000).mean()\n",
    "# Convert Saved Number of moves with different beta into Exponential moving average series \n",
    "df_N_Moves_SB = pd.DataFrame(N_moves_save_SB).ewm(span=5000).mean()\n",
    "# Convert Saved Number of moves with different gamma into Exponential moving average series \n",
    "df_N_Moves_SG = pd.DataFrame(N_moves_save_SG[:74870,0]).ewm(span=5000).mean()\n",
    "fig, axs = plt.subplots(1,figsize=(8,6))\n",
    "plt.plot(np.arange(0,N_episodes),df_N_Moves_S,label=\"beta = 0.00005 , gamma = 0.85\")\n",
    "plt.plot(np.arange(0,N_episodes),df_N_Moves_SB,label=\"beta = 0.00003, gamma = 0.85\")\n",
    "plt.plot(np.arange(0,74870),df_N_Moves_SG,label=\"beta = 0.00005, gamma = 0.9\")\n",
    "plt.title(\"SARSA Number of Moves vs. Episodes\")\n",
    "plt.xlabel(\"#Epsisodes\")\n",
    "plt.ylabel(\"Average Number of Moves\")\n",
    "plt.legend()"
   ]
  },
  {
   "cell_type": "markdown",
   "id": "f3154631",
   "metadata": {},
   "source": [
    "TASK 5: TRAIN AGENT WITH Q LEARNING"
   ]
  },
  {
   "cell_type": "code",
   "execution_count": null,
   "id": "e11bd185",
   "metadata": {},
   "outputs": [],
   "source": [
    "# Prepare parameter for Q learning\n",
    "W1_Q = np.copy(W1)\n",
    "W2_Q = np.copy(W2)\n",
    "b1_Q = np.copy(b1)\n",
    "b2_Q = np.copy(b2)\n",
    "R_save_Q  = np.copy(R_save)\n",
    "N_moves_save_Q = np.copy(N_moves_save)\n",
    "\n",
    "# Reset the seed = 1 to get the exact same result\n",
    "seed = 1\n",
    "\n",
    "# TRAINING LOOP FOR Q-Learning\n",
    "for n in range(N_episodes):\n",
    "    if(n%5000==0): print(n)\n",
    "    # Calculate decaying epsilong for every episode\n",
    "    epsilon_f = epsilon_0 / (1 + beta * n)   \n",
    "    Done=0                            \n",
    "    # Counter for the number of actions made in the episode      \n",
    "    i = 1                             \n",
    "    # Initialize the game\n",
    "    S,X,allowed_a=env.Initialise_game()\n",
    "    \n",
    "    while Done==0:                           \n",
    "        Q,x1 = Qvalues(X, W1_Q, W2_Q, b1_Q, b2_Q)\n",
    "        # Choose the action based on Q values\n",
    "        seed +=1 \n",
    "        a_agent = EpsilonGreedy_Policy(Q,epsilon_f,allowed_a,seed)  \n",
    "        # Take the action                \n",
    "        S_next,X_next,allowed_a_next,R,Done=env.OneStep(a_agent)\n",
    "        \n",
    "        if Done==1:\n",
    "            # If finished, update the weight without the decaying factor for future Q value (because there is no next step)\n",
    "            delta=R-Q[a_agent]\n",
    "\n",
    "            delta_b2 = delta\n",
    "            delta_W2 = delta*x1\n",
    "            delta_b1 = delta*W2_Q[:,a_agent]*(x1>0)\n",
    "            delta_W1=np.outer(X,delta_b1)\n",
    "\n",
    "            # Update Weights and Biases through back propagation\n",
    "            W2_Q[:,a_agent]=W2_Q[:,a_agent]+eta*delta_W2\n",
    "            b2_Q[a_agent]=b2_Q[a_agent]+eta*delta_b2\n",
    "            W1_Q=W1_Q+eta*delta_W1\n",
    "            b1_Q=b1_Q+eta*delta_b1\n",
    "\n",
    "            R_save_Q[n]=np.copy(R)\n",
    "            N_moves_save_Q[n]=np.copy(i)\n",
    "            break\n",
    "\n",
    "        # Find Next Q values based on the next state\n",
    "        Q_next,_ = Qvalues(X_next,W1_Q,W2_Q,b1_Q,b2_Q) \n",
    "        # Take into consideration of the discounted maximum future Q value \n",
    "        delta=R+gamma*np.max(Q_next)-Q[a_agent]\n",
    "        \n",
    "        delta_b2 = delta\n",
    "        delta_W2 = delta*x1\n",
    "        delta_b1 = delta*W2_Q[:,a_agent]*(x1>0)\n",
    "        delta_W1=np.outer(X,delta_b1)\n",
    "        \n",
    "        # Updating Weights and biases\n",
    "        W2_Q[:,a_agent]=W2_Q[:,a_agent]+eta*delta_W2\n",
    "        b2_Q[a_agent]=b2_Q[a_agent]+eta*delta_b2\n",
    "        W1_Q=W1_Q+eta*delta_W1\n",
    "        b1_Q=b1_Q+eta*delta_b1 \n",
    "            \n",
    "        # Update the next state, etc.  \n",
    "        S=np.copy(S_next)\n",
    "        X=np.copy(X_next)\n",
    "        allowed_a=np.copy(allowed_a_next)\n",
    "        # Update the counter of moves\n",
    "        i += 1  "
   ]
  },
  {
   "cell_type": "code",
   "execution_count": 6,
   "id": "27d36e18",
   "metadata": {},
   "outputs": [
    {
     "name": "stdout",
     "output_type": "stream",
     "text": [
      "Stored 'W1_Q' (ndarray)\n",
      "Stored 'b1_Q' (ndarray)\n",
      "Stored 'W2_Q' (ndarray)\n",
      "Stored 'b2_Q' (ndarray)\n",
      "Stored 'R_save_Q' (ndarray)\n",
      "Stored 'N_moves_save_Q' (ndarray)\n"
     ]
    }
   ],
   "source": [
    "# Store variables for Q_learning\n",
    "%store W1_Q\n",
    "%store b1_Q\n",
    "%store W2_Q\n",
    "%store b2_Q\n",
    "%store R_save_Q\n",
    "%store N_moves_save_Q"
   ]
  },
  {
   "cell_type": "code",
   "execution_count": 16,
   "id": "397ae8d0",
   "metadata": {},
   "outputs": [
    {
     "data": {
      "text/plain": [
       "<matplotlib.legend.Legend at 0x1b64c0b2e80>"
      ]
     },
     "execution_count": 16,
     "metadata": {},
     "output_type": "execute_result"
    },
    {
     "data": {
      "image/png": "[encoded data removed]",
      "text/plain": [
       "<Figure size 576x432 with 1 Axes>"
      ]
     },
     "metadata": {
      "needs_background": "light"
     },
     "output_type": "display_data"
    },
    {
     "data": {
      "image/png": "[encoded data removed]",
      "text/plain": [
       "<Figure size 576x432 with 1 Axes>"
      ]
     },
     "metadata": {
      "needs_background": "light"
     },
     "output_type": "display_data"
    }
   ],
   "source": [
    "%store -r R_save_S\n",
    "%store -r N_moves_save_S\n",
    "%store -r R_save_Q\n",
    "%store -r N_moves_save_Q\n",
    "\n",
    "# Convert Saved Reward for SARSA (R_save_S) into Exponential moving average series \n",
    "df_R_S = pd.DataFrame(R_save_S).ewm(span=5000).mean()\n",
    "# Convert Saved Reward for Q Learning (R_save_Q) into Exponential moving average series \n",
    "df_R_Q = pd.DataFrame(R_save_Q).ewm(span=5000).mean()\n",
    "fig, axs = plt.subplots(1,figsize=(8,6))\n",
    "plt.plot(np.arange(0,N_episodes),df_R_S,'b',label=\"SARSA\")\n",
    "plt.plot(np.arange(0,N_episodes),df_R_Q,'r',label=\"Q-Learning\")\n",
    "plt.title(\"Reward vs. Episodes\")\n",
    "plt.xlabel(\"#Epsisodes\")\n",
    "plt.ylabel(\"Average Reward\")\n",
    "plt.legend()\n",
    "\n",
    "\n",
    "# Convert Saved Number of moves for SARSA (N_moves_save_S) into Exponential moving average series \n",
    "df_N_Moves_S = pd.DataFrame(N_moves_save_S).ewm(span=5000).mean()\n",
    "# Convert Saved Number of moves for Q-Learning (N_moves_save_Q) into Exponential moving average series \n",
    "df_N_Moves_Q = pd.DataFrame(N_moves_save_Q).ewm(span=5000).mean()\n",
    "fig, axs = plt.subplots(1,figsize=(8,6))\n",
    "plt.plot(np.arange(0,N_episodes),df_N_Moves_S,\"b\", label=\"SARSA\")\n",
    "plt.plot(np.arange(0,N_episodes),df_N_Moves_Q,\"r\",label = \"Q-Learning\")\n",
    "plt.title(\"Number of Moves vs. Episodes\")\n",
    "plt.xlabel(\"#Epsisodes\")\n",
    "plt.ylabel(\"Average Number of Moves\")\n",
    "plt.legend()\n"
   ]
  }
 ],
 "metadata": {
  "kernelspec": {
   "display_name": "Python 3 (ipykernel)",
   "language": "python",
   "name": "python3"
  },
  "language_info": {
   "codemirror_mode": {
    "name": "ipython",
    "version": 3
   },
   "file_extension": ".py",
   "mimetype": "text/x-python",
   "name": "python",
   "nbconvert_exporter": "python",
   "pygments_lexer": "ipython3",
   "version": "3.9.7"
  }
 },
 "nbformat": 4,
 "nbformat_minor": 5
}
